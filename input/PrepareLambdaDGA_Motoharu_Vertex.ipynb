{
 "metadata": {
  "language_info": {
   "codemirror_mode": {
    "name": "ipython",
    "version": 3
   },
   "file_extension": ".py",
   "mimetype": "text/x-python",
   "name": "python",
   "nbconvert_exporter": "python",
   "pygments_lexer": "ipython3",
   "version": 3
  },
  "orig_nbformat": 2,
  "kernelspec": {
   "name": "python3",
   "language": "python",
   "display_name": "Python 3"
  }
 },
 "nbformat": 4,
 "nbformat_minor": 2,
 "cells": [
  {
   "cell_type": "code",
   "execution_count": 1,
   "metadata": {},
   "outputs": [],
   "source": [
    "import numpy as np \n",
    "import h5py\n",
    "import matplotlib.pyplot as plt"
   ]
  },
  {
   "cell_type": "code",
   "execution_count": 9,
   "metadata": {},
   "outputs": [
    {
     "name": "stdout",
     "output_type": "stream",
     "text": [
      "65536\n"
     ]
    }
   ],
   "source": [
    "# -------------------------------- local Green's function ----------------------------------------------\n",
    "path = 'C:/Users/pworm/Research/BEPS_Project/HoleDoping/2DSquare_U8_tp-0.25_tpp0.12_beta12.5_n0.85/'\n",
    "beta = 50.0\n",
    "U    = 2.0\n",
    "n    = 0.85\n",
    "mu   = 0.450528974361868\n",
    "giw = np.loadtxt(path + \"gm_wim\")\n",
    "giw = giw[:,1] + 1j * giw[:,2]\n",
    "g0mand = np.loadtxt(path + \"g0mand\")\n",
    "g0mand = g0mand[:,1] + 1j * g0mand[:,2]\n",
    "siw =  g0mand - giw ** (-1.0)\n",
    "siw = np.concatenate((np.flip(np.conj(siw)),siw))\n",
    "giw = np.concatenate((np.flip(np.conj(giw)),giw))\n",
    "Niv1 = np.size(giw) // 2\n",
    "print(Niv1)\n",
    "#f.close()\n",
    "f = h5py.File(path + '1p-data.hdf5','w')\n",
    "f['/dmft-last/ineq-001/giw/value'] = giw[None,None,:] * np.ones((1,2,1))\n",
    "f['/dmft-last/ineq-001/siw/value'] = siw[None,None,:] * np.ones((1,2,1))\n",
    "f.create_group('/.config')\n",
    "f['.config'].attrs['general.beta'] = beta\n",
    "f['.config'].attrs['atoms.1.udd']   = U\n",
    "f['.config'].attrs['general.totdens']  = n\n",
    "f['dmft-last/mu/value']            = mu\n",
    "f.close()"
   ]
  },
  {
   "cell_type": "code",
   "execution_count": 10,
   "outputs": [
    {
     "data": {
      "text/plain": "(0.0, 20.0)"
     },
     "execution_count": 10,
     "metadata": {},
     "output_type": "execute_result"
    },
    {
     "data": {
      "text/plain": "<Figure size 432x288 with 3 Axes>",
      "image/png": "[encoded data removed]"
     },
     "metadata": {
      "needs_background": "light"
     },
     "output_type": "display_data"
    }
   ],
   "source": [
    "plt.subplot(221)\n",
    "plt.plot(giw.imag)\n",
    "plt.xlim(Niv1-10,Niv1+10)\n",
    "plt.subplot(222)\n",
    "plt.plot(siw.imag)\n",
    "plt.xlim(Niv1-10,Niv1+10)\n",
    "plt.subplot(223)\n",
    "plt.plot(g0mand.imag)\n",
    "plt.xlim(0,20)"
   ],
   "metadata": {
    "collapsed": false,
    "pycharm": {
     "name": "#%%\n"
    }
   }
  },
  {
   "cell_type": "code",
   "execution_count": 11,
   "metadata": {},
   "outputs": [],
   "source": [
    "Nw = 59\n",
    "Nv = 60\n",
    "iw = 59\n",
    "iwb = (np.arange(-Nw,Nw+1))\n",
    "F_DM = np.loadtxt(path + 'F_DM')\n",
    "# This is F/beta^2\n",
    "f_d = F_DM[:,3].reshape((2*Nw+1,2*Nv,2*Nv)) + 1j * F_DM[:,4].reshape((2*Nw+1,2*Nv,2*Nv))\n",
    "f_m = F_DM[:,5].reshape((2*Nw+1,2*Nv,2*Nv)) + 1j * F_DM[:,6].reshape((2*Nw+1,2*Nv,2*Nv))\n",
    "f_d = np.flip(f_d, axis = 0)\n",
    "f_m = np.flip(f_m, axis = 0)"
   ]
  },
  {
   "cell_type": "code",
   "execution_count": 12,
   "outputs": [
    {
     "data": {
      "text/plain": "(50.0, 70.0)"
     },
     "execution_count": 12,
     "metadata": {},
     "output_type": "execute_result"
    },
    {
     "data": {
      "text/plain": "<Figure size 432x288 with 4 Axes>",
      "image/png": "[encoded data removed]"
     },
     "metadata": {
      "needs_background": "light"
     },
     "output_type": "display_data"
    }
   ],
   "source": [
    "plt.subplot(221)\n",
    "plt.imshow(f_d[iw,:,:].real, cmap = 'RdBu', origin='lower')\n",
    "plt.colorbar()\n",
    "plt.xlim(Nv-10,Nv+10)\n",
    "plt.ylim(Nv-10,Nv+10)\n",
    "\n",
    "plt.subplot(222)\n",
    "plt.imshow(f_m[iw,:,:].real, cmap = 'RdBu', origin='lower')\n",
    "plt.colorbar()\n",
    "plt.xlim(Nv-10,Nv+10)\n",
    "plt.ylim(Nv-10,Nv+10)"
   ],
   "metadata": {
    "collapsed": false,
    "pycharm": {
     "name": "#%%\n"
    }
   }
  },
  {
   "cell_type": "code",
   "execution_count": 13,
   "metadata": {},
   "outputs": [
    {
     "name": "stdout",
     "output_type": "stream",
     "text": [
      "0\n",
      "1\n",
      "2\n",
      "3\n",
      "4\n",
      "5\n",
      "6\n",
      "7\n",
      "8\n",
      "9\n",
      "10\n",
      "11\n",
      "12\n",
      "13\n",
      "14\n",
      "15\n",
      "16\n",
      "17\n",
      "18\n",
      "19\n",
      "20\n",
      "21\n",
      "22\n",
      "23\n",
      "24\n",
      "25\n",
      "26\n",
      "27\n",
      "28\n",
      "29\n",
      "30\n",
      "31\n",
      "32\n",
      "33\n",
      "34\n",
      "35\n",
      "36\n",
      "37\n",
      "38\n",
      "39\n",
      "40\n",
      "41\n",
      "42\n",
      "43\n",
      "44\n",
      "45\n",
      "46\n",
      "47\n",
      "48\n",
      "49\n",
      "50\n",
      "51\n",
      "52\n",
      "53\n",
      "54\n",
      "55\n",
      "56\n",
      "57\n",
      "58\n",
      "59\n",
      "60\n",
      "61\n",
      "62\n",
      "63\n",
      "64\n",
      "65\n",
      "66\n",
      "67\n",
      "68\n",
      "69\n",
      "70\n",
      "71\n",
      "72\n",
      "73\n",
      "74\n",
      "75\n",
      "76\n",
      "77\n",
      "78\n",
      "79\n",
      "80\n",
      "81\n",
      "82\n",
      "83\n",
      "84\n",
      "85\n",
      "86\n",
      "87\n",
      "88\n",
      "89\n",
      "90\n",
      "91\n",
      "92\n",
      "93\n",
      "94\n",
      "95\n",
      "96\n",
      "97\n",
      "98\n",
      "99\n",
      "100\n",
      "101\n",
      "102\n",
      "103\n",
      "104\n",
      "105\n",
      "106\n",
      "107\n",
      "108\n",
      "109\n",
      "110\n",
      "111\n",
      "112\n",
      "113\n",
      "114\n",
      "115\n",
      "116\n",
      "117\n",
      "118\n"
     ]
    }
   ],
   "source": [
    "# ----------------------------- local two-particle Green's function -----------------------------------\n",
    "f.close()\n",
    "f = h5py.File(path + 'g4iw_sym.hdf5','w')\n",
    "chig_0 = np.zeros((2*Nw+1, 2 * Nv, 2 * Nv), dtype = complex)\n",
    "chig_d = np.zeros((2*Nw+1, 2 * Nv, 2 * Nv), dtype = complex)\n",
    "chig_m = np.zeros((2*Nw+1, 2 * Nv, 2 * Nv), dtype = complex)\n",
    "iwb = (np.arange(-Nw,Nw+1))\n",
    "f['/.axes/iwb-g4'] = iwb * 2\n",
    "f['/.axes/iwf-g4'] = (np.arange(-Nv,Nv))\n",
    "for iw in range(2*Nw+1):\n",
    "    print(iw)\n",
    "    chig_0[iw,:,:] = - np.diag(giw[Niv1-Nv:Niv1+Nv] * giw[Niv1-Nv-iwb[iw]:Niv1+Nv-iwb[iw]])\n",
    "    chig_d[iw,:,:] = chig_0[iw,:,:]  - beta * chig_0[iw,:,:]  @ f_d[iw,:,:] @ chig_0[iw,:,:]\n",
    "    chig_m[iw,:,:] = chig_0[iw,:,:]  - beta * chig_0[iw,:,:]  @ f_m[iw,:,:] @ chig_0[iw,:,:]\n",
    "    if(iw == Nw):\n",
    "        f['/ineq-001/dens/{:05}/00001/value'.format(iw)] = chig_d[iw,:,:] + 2.0 * giw[Niv1-Nv:Niv1+Nv,None] * giw[None,Niv1-Nv:Niv1+Nv]\n",
    "    else:\n",
    "        f['/ineq-001/dens/{:05}/00001/value'.format(iw)] = chig_d[iw,:,:]\n",
    "    f['/ineq-001/magn/{:05}/00001/value'.format(iw)] = chig_m[iw,:,:]\n",
    "f.close()"
   ]
  },
  {
   "cell_type": "code",
   "execution_count": 14,
   "outputs": [
    {
     "data": {
      "text/plain": "(50.0, 70.0)"
     },
     "execution_count": 14,
     "metadata": {},
     "output_type": "execute_result"
    },
    {
     "data": {
      "text/plain": "<Figure size 432x288 with 8 Axes>",
      "image/png": "[encoded data removed]"
     },
     "metadata": {
      "needs_background": "light"
     },
     "output_type": "display_data"
    }
   ],
   "source": [
    "iw0 = Nw\n",
    "plt.subplot(221)\n",
    "plt.imshow(chig_d[iw0,:,:].real, cmap = 'RdBu', origin='lower')\n",
    "plt.colorbar()\n",
    "plt.xlim(Nv-10,Nv+10)\n",
    "plt.ylim(Nv-10,Nv+10)\n",
    "\n",
    "plt.subplot(222)\n",
    "plt.imshow(chig_m[iw0,:,:].real, cmap = 'RdBu', origin='lower')\n",
    "plt.colorbar()\n",
    "plt.xlim(Nv-10,Nv+10)\n",
    "plt.ylim(Nv-10,Nv+10)\n",
    "\n",
    "plt.subplot(223)\n",
    "plt.imshow(chig_d[iw0+5,:,:].real, cmap = 'RdBu', origin='lower')\n",
    "plt.colorbar()\n",
    "plt.xlim(Nv-10,Nv+10)\n",
    "plt.ylim(Nv-10,Nv+10)\n",
    "\n",
    "plt.subplot(224)\n",
    "plt.imshow(chig_m[iw0+5,:,:].real, cmap = 'RdBu', origin='lower')\n",
    "plt.colorbar()\n",
    "plt.xlim(Nv-10,Nv+10)\n",
    "plt.ylim(Nv-10,Nv+10)"
   ],
   "metadata": {
    "collapsed": false,
    "pycharm": {
     "name": "#%%\n"
    }
   }
  },
  {
   "cell_type": "code",
   "execution_count": 19,
   "outputs": [],
   "source": [],
   "metadata": {
    "collapsed": false,
    "pycharm": {
     "name": "#%%\n"
    }
   }
  },
  {
   "cell_type": "code",
   "execution_count": null,
   "outputs": [],
   "source": [],
   "metadata": {
    "collapsed": false,
    "pycharm": {
     "name": "#%%\n"
    }
   }
  }
 ]
}